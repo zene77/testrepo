{
 "cells": [
  {
   "cell_type": "markdown",
   "id": "1730ae9f-bab2-47f1-8852-fadd4c64488c",
   "metadata": {},
   "source": [
    "# Data Science Tools and Ecosystem"
   ]
  },
  {
   "cell_type": "markdown",
   "id": "e80b59a7-38d6-4b38-adc9-0608e6e7c08c",
   "metadata": {},
   "source": [
    "In this notebook, Data Science Tools and Ecosystem are sumaryzed"
   ]
  },
  {
   "cell_type": "markdown",
   "id": "d0f2fe02-b2d1-47ee-9969-31f0ab976c2e",
   "metadata": {},
   "source": [
    "**Objetives**\n",
    "- Crear cuadernos\n",
    "- Crear documentos interactivos y vizuales\n",
    "- Compartir documentos"
   ]
  },
  {
   "cell_type": "markdown",
   "id": "74972503-44de-4e7c-8dc4-466f7b1b0ca6",
   "metadata": {},
   "source": [
    "Some of the popular lenguages that Data Scientists use are:\n",
    "1. Python\n",
    "2. Julia\n",
    "3. R"
   ]
  },
  {
   "cell_type": "markdown",
   "id": "01ad8d5e-f7f4-47d1-8f20-907465416e35",
   "metadata": {},
   "source": [
    "Some of the commonly used libraries used by Data Scientists incluide:\n",
    "- NumPy\n",
    "- Seaborn\n",
    "- Pandas"
   ]
  },
  {
   "cell_type": "markdown",
   "id": "bd6cc50d-6548-4695-a2f9-922bf368bfab",
   "metadata": {},
   "source": [
    "| Data Science Tools |\n",
    "|--------------------|\n",
    "| Jupyter Notebooks  |\n",
    "| Jupyter Litle | \n",
    "| RStudio|"
   ]
  },
  {
   "cell_type": "markdown",
   "id": "910f380c-82e2-4d91-bcab-9383dbd2b423",
   "metadata": {},
   "source": [
    "### Below are few exemples of evaluating aritmetic exprecions in Python"
   ]
  },
  {
   "cell_type": "code",
   "execution_count": 17,
   "id": "14324163-9455-431a-a0ec-17487de495dd",
   "metadata": {},
   "outputs": [
    {
     "data": {
      "text/plain": [
       "17"
      ]
     },
     "execution_count": 17,
     "metadata": {},
     "output_type": "execute_result"
    }
   ],
   "source": [
    "#This a simple aritmetic exprecion to multyply then add integers\n",
    "(3*4)+5"
   ]
  },
  {
   "cell_type": "code",
   "execution_count": 31,
   "id": "ef4e13dc-a71a-4bb7-968e-1dac976c021e",
   "metadata": {},
   "outputs": [
    {
     "data": {
      "text/plain": [
       "3.3333333333333335"
      ]
     },
     "execution_count": 31,
     "metadata": {},
     "output_type": "execute_result"
    }
   ],
   "source": [
    "# This will convert 200 minutes to hours by diving by 60\n",
    "minutos = 200\n",
    "horas = minutos/60 #\n",
    "200/60"
   ]
  },
  {
   "cell_type": "markdown",
   "id": "9c411efe-f28c-4e03-93ba-d2571dbc500c",
   "metadata": {},
   "source": [
    "##  Author\n",
    "### Zene"
   ]
  }
 ],
 "metadata": {
  "kernelspec": {
   "display_name": "Python 3 (ipykernel)",
   "language": "python",
   "name": "python3"
  },
  "language_info": {
   "codemirror_mode": {
    "name": "ipython",
    "version": 3
   },
   "file_extension": ".py",
   "mimetype": "text/x-python",
   "name": "python",
   "nbconvert_exporter": "python",
   "pygments_lexer": "ipython3",
   "version": "3.11.7"
  }
 },
 "nbformat": 4,
 "nbformat_minor": 5
}
